{
 "cells": [
  {
   "cell_type": "markdown",
   "metadata": {},
   "source": [
    "# LFB Incidents Record - Data Loading & Initial Preparation\n",
    "\n",
    "In this file, we will prepare our fire data by selecting and filtering the relevant columns and attributes.\n",
    "\n",
    "We will export a CSV file which will contain fire incidents that occured in Residential dwellings only."
   ]
  },
  {
   "cell_type": "code",
   "execution_count": 1,
   "metadata": {},
   "outputs": [],
   "source": [
    "# importing libraries\n",
    "import os\n",
    "import pandas as pd"
   ]
  },
  {
   "cell_type": "code",
   "execution_count": 2,
   "metadata": {},
   "outputs": [
    {
     "name": "stdout",
     "output_type": "stream",
     "text": [
      "/home/jovyan/work/quant_methods/Assessment/Written Investigation/London Dwelling Fires Analysis\n"
     ]
    }
   ],
   "source": [
    "# setting the working directory - you need to change this to your own directory\n",
    "#import os\n",
    "os.chdir('/home/jovyan/work/quant_methods/Assessment/Written Investigation/London Dwelling Fires Analysis')\n",
    "print(os.getcwd())"
   ]
  },
  {
   "cell_type": "markdown",
   "metadata": {},
   "source": [
    "Download the London Brigade Incidents Record data from the following link [here](https://data.london.gov.uk/dataset/london-fire-brigade-incident-records) then save it as a csv. "
   ]
  },
  {
   "cell_type": "code",
   "execution_count": 3,
   "metadata": {},
   "outputs": [
    {
     "name": "stdout",
     "output_type": "stream",
     "text": [
      "Data frame 1 is 794,155 x 39\n"
     ]
    }
   ],
   "source": [
    "#import pandas as pd\n",
    "\n",
    "incidents = pd.read_csv('LFB_incident_data_2018-Nov_2024.csv', encoding=\"utf-8\")\n",
    "print(f\"Data frame 1 is {incidents.shape[0]:,} x {incidents.shape[1]}\")"
   ]
  },
  {
   "cell_type": "code",
   "execution_count": 4,
   "metadata": {},
   "outputs": [
    {
     "name": "stdout",
     "output_type": "stream",
     "text": [
      "['IncidentNumber', 'DateOfCall', 'CalYear', 'TimeOfCall', 'HourOfCall', 'IncidentGroup', 'StopCodeDescription', 'SpecialServiceType', 'PropertyCategory', 'PropertyType', 'AddressQualifier', 'Postcode_full', 'Postcode_district', 'UPRN', 'USRN', 'IncGeo_BoroughCode', 'IncGeo_BoroughName', 'ProperCase', 'IncGeo_WardCode', 'IncGeo_WardName', 'IncGeo_WardNameNew', 'Easting_m', 'Northing_m', 'Easting_rounded', 'Northing_rounded', 'Latitude', 'Longitude', 'FRS', 'IncidentStationGround', 'FirstPumpArriving_AttendanceTime', 'FirstPumpArriving_DeployedFromStation', 'SecondPumpArriving_AttendanceTime', 'SecondPumpArriving_DeployedFromStation', 'NumStationsWithPumpsAttending', 'NumPumpsAttending', 'PumpCount', 'PumpMinutesRounded', 'Notional Cost (£)', 'NumCalls']\n"
     ]
    }
   ],
   "source": [
    "# list of columns\n",
    "print(incidents.columns.to_list())"
   ]
  },
  {
   "cell_type": "code",
   "execution_count": 5,
   "metadata": {},
   "outputs": [],
   "source": [
    "# columns subsetting\n",
    "\n",
    "cols = ['IncidentNumber', 'CalYear', 'HourOfCall', 'IncidentGroup', 'StopCodeDescription', 'PropertyCategory',  \n",
    "        'Postcode_district', 'IncGeo_BoroughCode', 'ProperCase', 'IncGeo_WardCode', 'IncGeo_WardNameNew', \n",
    "        'Easting_m', 'Northing_m', 'Easting_rounded', 'Northing_rounded', 'Latitude', 'Longitude', \n",
    "        'IncidentStationGround', 'FirstPumpArriving_AttendanceTime', 'FirstPumpArriving_DeployedFromStation', \n",
    "        'SecondPumpArriving_AttendanceTime', 'SecondPumpArriving_DeployedFromStation', 'NumStationsWithPumpsAttending', \n",
    "        'NumPumpsAttending', 'PumpCount', 'PumpMinutesRounded', 'Notional Cost (£)', 'NumCalls']"
   ]
  },
  {
   "cell_type": "code",
   "execution_count": 6,
   "metadata": {},
   "outputs": [
    {
     "name": "stdout",
     "output_type": "stream",
     "text": [
      "Data frame 1 is 794,155 x 28\n"
     ]
    }
   ],
   "source": [
    "incidents = pd.read_csv('LFB_incident_data_2018-Nov_2024.csv', encoding=\"utf-8\",\n",
    "                low_memory=False, usecols=cols)\n",
    "print(f\"Data frame 1 is {incidents.shape[0]:,} x {incidents.shape[1]}\")"
   ]
  },
  {
   "cell_type": "code",
   "execution_count": 7,
   "metadata": {},
   "outputs": [
    {
     "name": "stdout",
     "output_type": "stream",
     "text": [
      "<class 'pandas.core.frame.DataFrame'>\n",
      "RangeIndex: 794155 entries, 0 to 794154\n",
      "Data columns (total 28 columns):\n",
      " #   Column                                  Non-Null Count   Dtype  \n",
      "---  ------                                  --------------   -----  \n",
      " 0   IncidentNumber                          794155 non-null  object \n",
      " 1   CalYear                                 794155 non-null  int64  \n",
      " 2   HourOfCall                              794155 non-null  int64  \n",
      " 3   IncidentGroup                           794149 non-null  object \n",
      " 4   StopCodeDescription                     794155 non-null  object \n",
      " 5   PropertyCategory                        794149 non-null  object \n",
      " 6   Postcode_district                       794155 non-null  object \n",
      " 7   IncGeo_BoroughCode                      794155 non-null  object \n",
      " 8   ProperCase                              794155 non-null  object \n",
      " 9   IncGeo_WardCode                         793613 non-null  object \n",
      " 10  IncGeo_WardNameNew                      793613 non-null  object \n",
      " 11  Easting_m                               353837 non-null  float64\n",
      " 12  Northing_m                              353837 non-null  float64\n",
      " 13  Easting_rounded                         794155 non-null  int64  \n",
      " 14  Northing_rounded                        794155 non-null  int64  \n",
      " 15  Latitude                                353837 non-null  float64\n",
      " 16  Longitude                               353837 non-null  float64\n",
      " 17  IncidentStationGround                   794154 non-null  object \n",
      " 18  FirstPumpArriving_AttendanceTime        749287 non-null  float64\n",
      " 19  FirstPumpArriving_DeployedFromStation   749281 non-null  object \n",
      " 20  SecondPumpArriving_AttendanceTime       291340 non-null  float64\n",
      " 21  SecondPumpArriving_DeployedFromStation  291335 non-null  object \n",
      " 22  NumStationsWithPumpsAttending           785482 non-null  float64\n",
      " 23  NumPumpsAttending                       785482 non-null  float64\n",
      " 24  PumpCount                               794155 non-null  int64  \n",
      " 25  PumpMinutesRounded                      794155 non-null  int64  \n",
      " 26  Notional Cost (£)                       794155 non-null  int64  \n",
      " 27  NumCalls                                794134 non-null  float64\n",
      "dtypes: float64(9), int64(7), object(12)\n",
      "memory usage: 169.6+ MB\n"
     ]
    }
   ],
   "source": [
    "incidents.info(verbose=True)"
   ]
  },
  {
   "cell_type": "markdown",
   "metadata": {},
   "source": [
    "Our data contains False alarms, actual fires and emergency services. We will filter out the False alarms and emergency services and keep only the actual fires."
   ]
  },
  {
   "cell_type": "code",
   "execution_count": 8,
   "metadata": {},
   "outputs": [
    {
     "name": "stdout",
     "output_type": "stream",
     "text": [
      "Fires data frame is 120,404 x 28\n"
     ]
    }
   ],
   "source": [
    "fires = incidents[incidents['IncidentGroup'] == 'Fire'] # subset of incidents with 'Fire' in 'IncidentGroup'\n",
    "print(f\"Fires data frame is {fires.shape[0]:,} x {fires.shape[1]}\")"
   ]
  },
  {
   "cell_type": "markdown",
   "metadata": {},
   "source": [
    "We remain with 120,404 fire incidents. Our next task is to only keep the fire incidents that occured in Residential dwellings."
   ]
  },
  {
   "cell_type": "code",
   "execution_count": 9,
   "metadata": {},
   "outputs": [
    {
     "name": "stdout",
     "output_type": "stream",
     "text": [
      "Filtered fires data frame is 36,572 x 28\n"
     ]
    }
   ],
   "source": [
    "res_fires = fires[fires['PropertyCategory'].isin(['Dwelling', 'Other Residential'])]\n",
    "print(f\"Filtered fires data frame is {res_fires.shape[0]:,} x {res_fires.shape[1]}\")"
   ]
  },
  {
   "cell_type": "code",
   "execution_count": 10,
   "metadata": {},
   "outputs": [
    {
     "name": "stdout",
     "output_type": "stream",
     "text": [
      "<class 'pandas.core.frame.DataFrame'>\n",
      "Index: 36572 entries, 19 to 794122\n",
      "Data columns (total 28 columns):\n",
      " #   Column                                  Non-Null Count  Dtype  \n",
      "---  ------                                  --------------  -----  \n",
      " 0   IncidentNumber                          36572 non-null  object \n",
      " 1   CalYear                                 36572 non-null  int64  \n",
      " 2   HourOfCall                              36572 non-null  int64  \n",
      " 3   IncidentGroup                           36572 non-null  object \n",
      " 4   StopCodeDescription                     36572 non-null  object \n",
      " 5   PropertyCategory                        36572 non-null  object \n",
      " 6   Postcode_district                       36572 non-null  object \n",
      " 7   IncGeo_BoroughCode                      36572 non-null  object \n",
      " 8   ProperCase                              36572 non-null  object \n",
      " 9   IncGeo_WardCode                         36546 non-null  object \n",
      " 10  IncGeo_WardNameNew                      36546 non-null  object \n",
      " 11  Easting_m                               1781 non-null   float64\n",
      " 12  Northing_m                              1781 non-null   float64\n",
      " 13  Easting_rounded                         36572 non-null  int64  \n",
      " 14  Northing_rounded                        36572 non-null  int64  \n",
      " 15  Latitude                                1781 non-null   float64\n",
      " 16  Longitude                               1781 non-null   float64\n",
      " 17  IncidentStationGround                   36572 non-null  object \n",
      " 18  FirstPumpArriving_AttendanceTime        36411 non-null  float64\n",
      " 19  FirstPumpArriving_DeployedFromStation   36410 non-null  object \n",
      " 20  SecondPumpArriving_AttendanceTime       30337 non-null  float64\n",
      " 21  SecondPumpArriving_DeployedFromStation  30337 non-null  object \n",
      " 22  NumStationsWithPumpsAttending           36560 non-null  float64\n",
      " 23  NumPumpsAttending                       36560 non-null  float64\n",
      " 24  PumpCount                               36572 non-null  int64  \n",
      " 25  PumpMinutesRounded                      36572 non-null  int64  \n",
      " 26  Notional Cost (£)                       36572 non-null  int64  \n",
      " 27  NumCalls                                36572 non-null  float64\n",
      "dtypes: float64(9), int64(7), object(12)\n",
      "memory usage: 8.1+ MB\n"
     ]
    }
   ],
   "source": [
    "res_fires.info(verbose=True)"
   ]
  },
  {
   "cell_type": "markdown",
   "metadata": {},
   "source": [
    "We now remain with 36,572 fires that occured in Residential dwellings. In case we need to find estimated locations of the fire incidents, we can use the `Easting_rounded` and `Northing_rounded` columns.\n",
    "\n",
    "Our analysis will be based on the ward level and the data set already contains the Ward information in `IncGeo_WardCode` and `IncGeo_WardName` columns. A closer look indicates that 26 incidents do not have a Ward code. We will explore further to see whether to keep or remove these incidents.\n",
    "\n",
    "We will further subset our columns to keep only the relevant columns for our analysis below."
   ]
  },
  {
   "cell_type": "code",
   "execution_count": 11,
   "metadata": {},
   "outputs": [],
   "source": [
    "res_cols = ['IncidentNumber', 'CalYear', 'PropertyCategory', 'IncGeo_WardCode', 'IncGeo_WardNameNew', 'Easting_rounded', 'Northing_rounded', 'IncidentStationGround']"
   ]
  },
  {
   "cell_type": "code",
   "execution_count": 12,
   "metadata": {},
   "outputs": [
    {
     "name": "stdout",
     "output_type": "stream",
     "text": [
      "Filtered fires data frame is 36,572 x 8\n"
     ]
    }
   ],
   "source": [
    "# selecting columns, just those listed in res_cols\n",
    "res_fires = res_fires[res_cols]\n",
    "print(f\"Filtered fires data frame is {res_fires.shape[0]:,} x {res_fires.shape[1]}\")"
   ]
  },
  {
   "cell_type": "code",
   "execution_count": 13,
   "metadata": {},
   "outputs": [
    {
     "name": "stdout",
     "output_type": "stream",
     "text": [
      "<class 'pandas.core.frame.DataFrame'>\n",
      "Index: 36572 entries, 19 to 794122\n",
      "Data columns (total 8 columns):\n",
      " #   Column                 Non-Null Count  Dtype \n",
      "---  ------                 --------------  ----- \n",
      " 0   IncidentNumber         36572 non-null  object\n",
      " 1   CalYear                36572 non-null  int64 \n",
      " 2   PropertyCategory       36572 non-null  object\n",
      " 3   IncGeo_WardCode        36546 non-null  object\n",
      " 4   IncGeo_WardNameNew     36546 non-null  object\n",
      " 5   Easting_rounded        36572 non-null  int64 \n",
      " 6   Northing_rounded       36572 non-null  int64 \n",
      " 7   IncidentStationGround  36572 non-null  object\n",
      "dtypes: int64(3), object(5)\n",
      "memory usage: 2.5+ MB\n"
     ]
    }
   ],
   "source": [
    "res_fires.info(verbose=True)"
   ]
  },
  {
   "cell_type": "markdown",
   "metadata": {},
   "source": [
    "All looks good. Let us now export the data to a CSV file for further analysis."
   ]
  },
  {
   "cell_type": "code",
   "execution_count": 14,
   "metadata": {},
   "outputs": [],
   "source": [
    "res_fires.to_csv('residential_fires2.csv', index=False)"
   ]
  },
  {
   "cell_type": "markdown",
   "metadata": {},
   "source": [
    "External analysis was done in trying to identify the missing Ward codes. We found that the 26 incidents occured in the Borough of Newham. We did a spatial join and found that all the incidents were being assigned to just 2 boroughs of Little Ilford and Manor Park. This was however in conflict with the fact that when you look up the home fire station for these incidents, they were assigned to 4 different fire stations. We decided to remove these incidents from our data set.\n",
    "\n",
    "The difference can be attributed to the fact that our eastings and northings are rounded to the nearest 50m. The shapefile used had generalised the ward boundaries by 20m. This could have caused the spatial join to assign the incidents to the wrong wards.\n",
    "\n",
    "We will drop these 26 incidents in our next analysis.\n",
    "\n",
    "As a bonous, we will export the data to a geopackage file for further spatial analysis in case we need it."
   ]
  },
  {
   "cell_type": "code",
   "execution_count": 15,
   "metadata": {},
   "outputs": [],
   "source": [
    "import geopandas as gpd\n",
    "from shapely.geometry import Point\n",
    "\n",
    "# Create a GeoDataFrame\n",
    "geometry = [Point(xy) for xy in zip(res_fires['Easting_rounded'], res_fires['Northing_rounded'])]\n",
    "gdf = gpd.GeoDataFrame(res_fires, geometry=geometry)\n",
    "\n",
    "# Set the coordinate reference system (CRS) to EPSG:27700\n",
    "gdf.set_crs(epsg=27700, inplace=True)\n",
    "\n",
    "# Export to GPKG file\n",
    "gdf.to_file('residential_fires2.gpkg', layer='residential_fires', driver='GPKG')"
   ]
  }
 ],
 "metadata": {
  "kernelspec": {
   "display_name": "Python (base)",
   "language": "python",
   "name": "base"
  },
  "language_info": {
   "codemirror_mode": {
    "name": "ipython",
    "version": 3
   },
   "file_extension": ".py",
   "mimetype": "text/x-python",
   "name": "python",
   "nbconvert_exporter": "python",
   "pygments_lexer": "ipython3",
   "version": "3.11.9"
  }
 },
 "nbformat": 4,
 "nbformat_minor": 2
}
